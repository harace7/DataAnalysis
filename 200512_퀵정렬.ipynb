{
 "cells": [
  {
   "cell_type": "code",
   "execution_count": 12,
   "metadata": {},
   "outputs": [
    {
     "name": "stdout",
     "output_type": "stream",
     "text": [
      "퀵 정렬의  실행 시간  (N=1000) : 0.024\n",
      "정렬 완료\n"
     ]
    }
   ],
   "source": [
    "def quickSort(a, l, r) :\n",
    "    if r > l :\n",
    "        v, i, j = a[r], l - 1, r\n",
    "        while True :\n",
    "            i += 1\n",
    "            while a[i] < v :\n",
    "                i += 1\n",
    "            j -= 1\n",
    "            while a[j] > v :\n",
    "                j -= 1\n",
    "            if i >= j :\n",
    "                break\n",
    "            a[i], a[j] = a[j] , a[i]\n",
    "        a[i], a[r] = a[r], a[i]\n",
    "        quickSort(a, l, i-1)\n",
    "        quickSort(a, i+1, r)\n",
    "\n",
    "def checkSort(a,n) :\n",
    "    isSorted = True\n",
    "    for i in range(1, n) :\n",
    "        if (a[i] > a[i+1]) :\n",
    "            isSorted = False\n",
    "        if (not isSorted) :\n",
    "            break\n",
    "    if isSorted :\n",
    "        print(\"정렬 완료\")\n",
    "    else :\n",
    "        print(\"정렬 오류 발생\")\n",
    "\n",
    "import random, time. sys\n",
    "sys.setrecursionlimit(20000)\n",
    "\n",
    "N = 1000\n",
    "#a = list(range(N+1))\n",
    "a=[]\n",
    "a.append(-1)\n",
    "for i in range(1,N+1):\n",
    "    a.append(i)\n",
    "\n",
    "start_time = time.time()\n",
    "quickSort(a,1,N)\n",
    "end_time = time.time() - start_time\n",
    "print('퀵 정렬의 실행 시간 (N = %d) : %0.3f'%(N,end_time))\n",
    "checkSort(a,N)"
   ]
  },
  {
   "cell_type": "code",
   "execution_count": null,
   "metadata": {},
   "outputs": [],
   "source": []
  }
 ],
 "metadata": {
  "kernelspec": {
   "display_name": "Python 3",
   "language": "python",
   "name": "python3"
  },
  "language_info": {
   "codemirror_mode": {
    "name": "ipython",
    "version": 3
   },
   "file_extension": ".py",
   "mimetype": "text/x-python",
   "name": "python",
   "nbconvert_exporter": "python",
   "pygments_lexer": "ipython3",
   "version": "3.7.6"
  }
 },
 "nbformat": 4,
 "nbformat_minor": 4
}
