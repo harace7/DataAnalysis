{
 "cells": [
  {
   "cell_type": "code",
   "execution_count": 1,
   "metadata": {},
   "outputs": [
    {
     "name": "stdout",
     "output_type": "stream",
     "text": [
      "선택정렬의 실행 시간 (N=5000) : 0.577\n",
      "정렬 완료\n"
     ]
    }
   ],
   "source": [
    "def selectionSort(a, n):\n",
    "    for i in range(1, n):\n",
    "        minIndex=i\n",
    "        for j in range(i+1, n+1):\n",
    "            if a[minIndex] > a[j]:\n",
    "                minIndex=j\n",
    "        a[minIndex], a[i]=a[i], a[minIndex]\n",
    "        \n",
    "def checkSort(a,n):\n",
    "    isSorted=True\n",
    "    for i in range(1,n):\n",
    "        if(a[i]>a[i+1]):\n",
    "            isSorted=False\n",
    "        if(not isSorted):\n",
    "            break\n",
    "    if isSorted:\n",
    "        print(\"정렬 완료\")\n",
    "    else:\n",
    "        print(\"정렬 오류 발생\")\n",
    "        \n",
    "import random, time\n",
    "\n",
    "N=5000\n",
    "a=list(range(N+1))\n",
    "\"\"\"\n",
    "#역순정렬\n",
    "a.reverse()\n",
    "a.insert(0,-1)\n",
    "a.remove(0)\n",
    "\"\"\"\n",
    "\n",
    "\"\"\"\n",
    "#랜덤상수발생(위에 a=list(range(N+1))지우고.)\n",
    "a=[]\n",
    "a.append(None)\n",
    "for i in range(N):\n",
    "    a.append(random.randint(1,N))\n",
    "\"\"\"\n",
    "start_time=time.time()\n",
    "selectionSort(a,N)\n",
    "end_time=time.time()-start_time\n",
    "print('선택정렬의 실행 시간 (N=%d) : %0.3f'%(N, end_time))\n",
    "checkSort(a, N)\n"
   ]
  },
  {
   "cell_type": "code",
   "execution_count": null,
   "metadata": {},
   "outputs": [],
   "source": [
    "isSo"
   ]
  }
 ],
 "metadata": {
  "kernelspec": {
   "display_name": "Python 3",
   "language": "python",
   "name": "python3"
  },
  "language_info": {
   "codemirror_mode": {
    "name": "ipython",
    "version": 3
   },
   "file_extension": ".py",
   "mimetype": "text/x-python",
   "name": "python",
   "nbconvert_exporter": "python",
   "pygments_lexer": "ipython3",
   "version": "3.7.6"
  }
 },
 "nbformat": 4,
 "nbformat_minor": 4
}
