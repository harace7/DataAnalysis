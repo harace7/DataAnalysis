{
 "cells": [
  {
   "cell_type": "code",
   "execution_count": 306,
   "metadata": {},
   "outputs": [],
   "source": [
    "import requests\n",
    "import pandas as pd\n",
    "pd.options.display.max_columns = 200\n",
    "import matplotlib.pyplot as plt\n",
    "import matplotlib\n",
    "import datetime"
   ]
  },
  {
   "cell_type": "code",
   "execution_count": 307,
   "metadata": {},
   "outputs": [
    {
     "name": "stdout",
     "output_type": "stream",
     "text": [
      "            날짜     체결가    거래량(천주)    거래대금(백만)\n",
      "0          NaN     NaN        NaN         NaN\n",
      "1   2020.07.09  772.90  1465602.0  10387777.0\n",
      "2   2020.07.08  765.96  1306346.0  10447531.0\n",
      "3   2020.07.07  759.16  1290021.0  10083403.0\n",
      "4          NaN     NaN        NaN         NaN\n",
      "5          NaN     NaN        NaN         NaN\n",
      "6          NaN     NaN        NaN         NaN\n",
      "7          NaN     NaN        NaN         NaN\n",
      "8   2020.07.06  759.90  1142167.0   8304840.0\n",
      "9   2020.07.03  752.18  1285378.0  10147594.0\n",
      "10  2020.07.02  742.55  1155544.0   7539546.0\n",
      "11         NaN     NaN        NaN         NaN\n",
      "12         NaN     NaN        NaN         NaN\n"
     ]
    }
   ],
   "source": [
    "tables = pd.read_html('https://finance.naver.com/sise/sise_index_day.nhn?code=KOSDAQ&page=1')\n",
    "#print(tables[0])\n",
    "\n",
    "df = pd.DataFrame(tables[0], columns=['날짜','체결가','거래량(천주)','거래대금(백만)'])\n",
    "print(df)"
   ]
  },
  {
   "cell_type": "code",
   "execution_count": 308,
   "metadata": {},
   "outputs": [
    {
     "name": "stdout",
     "output_type": "stream",
     "text": [
      "추출하고자 하는 마지막 페이지 입력 : 183\n",
      "추출하는 마지막 페이지 :  183\n"
     ]
    }
   ],
   "source": [
    "input_page = input(\"추출하고자 하는 마지막 페이지 입력 : \")\n",
    "\n",
    "end_page = int(input_page)\n",
    "print(\"추출하는 마지막 페이지 : \", end_page)\n",
    "\n",
    "latest_page = 0"
   ]
  },
  {
   "cell_type": "code",
   "execution_count": 309,
   "metadata": {},
   "outputs": [],
   "source": [
    "# 크롤링 시작\n",
    "for i in range(2, end_page+1):\n",
    "    url=f'https://finance.naver.com/sise/sise_index_day.nhn?code=KOSDAQ&page={i}'\n",
    "    tmp_tables = pd.read_html(url)\n",
    "    tmp_df = pd.DataFrame(tmp_tables[0], columns=['날짜','체결가','거래량(천주)','거래대금(백만)'])\n",
    "    df = df.append(tmp_df)"
   ]
  },
  {
   "cell_type": "code",
   "execution_count": 310,
   "metadata": {},
   "outputs": [
    {
     "data": {
      "text/html": [
       "<div>\n",
       "<style scoped>\n",
       "    .dataframe tbody tr th:only-of-type {\n",
       "        vertical-align: middle;\n",
       "    }\n",
       "\n",
       "    .dataframe tbody tr th {\n",
       "        vertical-align: top;\n",
       "    }\n",
       "\n",
       "    .dataframe thead th {\n",
       "        text-align: right;\n",
       "    }\n",
       "</style>\n",
       "<table border=\"1\" class=\"dataframe\">\n",
       "  <thead>\n",
       "    <tr style=\"text-align: right;\">\n",
       "      <th></th>\n",
       "      <th>날짜</th>\n",
       "      <th>체결가</th>\n",
       "      <th>거래량(천주)</th>\n",
       "      <th>거래대금(백만)</th>\n",
       "    </tr>\n",
       "  </thead>\n",
       "  <tbody>\n",
       "    <tr>\n",
       "      <th>0</th>\n",
       "      <td>2020.07.09</td>\n",
       "      <td>772.90</td>\n",
       "      <td>1465602.0</td>\n",
       "      <td>10387777.0</td>\n",
       "    </tr>\n",
       "    <tr>\n",
       "      <th>1</th>\n",
       "      <td>2020.07.08</td>\n",
       "      <td>765.96</td>\n",
       "      <td>1306346.0</td>\n",
       "      <td>10447531.0</td>\n",
       "    </tr>\n",
       "    <tr>\n",
       "      <th>2</th>\n",
       "      <td>2020.07.07</td>\n",
       "      <td>759.16</td>\n",
       "      <td>1290021.0</td>\n",
       "      <td>10083403.0</td>\n",
       "    </tr>\n",
       "    <tr>\n",
       "      <th>3</th>\n",
       "      <td>2020.07.06</td>\n",
       "      <td>759.90</td>\n",
       "      <td>1142167.0</td>\n",
       "      <td>8304840.0</td>\n",
       "    </tr>\n",
       "    <tr>\n",
       "      <th>4</th>\n",
       "      <td>2020.07.03</td>\n",
       "      <td>752.18</td>\n",
       "      <td>1285378.0</td>\n",
       "      <td>10147594.0</td>\n",
       "    </tr>\n",
       "    <tr>\n",
       "      <th>5</th>\n",
       "      <td>2020.07.02</td>\n",
       "      <td>742.55</td>\n",
       "      <td>1155544.0</td>\n",
       "      <td>7539546.0</td>\n",
       "    </tr>\n",
       "    <tr>\n",
       "      <th>6</th>\n",
       "      <td>2020.07.01</td>\n",
       "      <td>727.58</td>\n",
       "      <td>1184777.0</td>\n",
       "      <td>8563272.0</td>\n",
       "    </tr>\n",
       "    <tr>\n",
       "      <th>7</th>\n",
       "      <td>2020.06.30</td>\n",
       "      <td>737.97</td>\n",
       "      <td>1638598.0</td>\n",
       "      <td>10528654.0</td>\n",
       "    </tr>\n",
       "    <tr>\n",
       "      <th>8</th>\n",
       "      <td>2020.06.29</td>\n",
       "      <td>734.69</td>\n",
       "      <td>1347220.0</td>\n",
       "      <td>9278719.0</td>\n",
       "    </tr>\n",
       "    <tr>\n",
       "      <th>9</th>\n",
       "      <td>2020.06.26</td>\n",
       "      <td>750.58</td>\n",
       "      <td>1522033.0</td>\n",
       "      <td>11787915.0</td>\n",
       "    </tr>\n",
       "  </tbody>\n",
       "</table>\n",
       "</div>"
      ],
      "text/plain": [
       "           날짜     체결가    거래량(천주)    거래대금(백만)\n",
       "0  2020.07.09  772.90  1465602.0  10387777.0\n",
       "1  2020.07.08  765.96  1306346.0  10447531.0\n",
       "2  2020.07.07  759.16  1290021.0  10083403.0\n",
       "3  2020.07.06  759.90  1142167.0   8304840.0\n",
       "4  2020.07.03  752.18  1285378.0  10147594.0\n",
       "5  2020.07.02  742.55  1155544.0   7539546.0\n",
       "6  2020.07.01  727.58  1184777.0   8563272.0\n",
       "7  2020.06.30  737.97  1638598.0  10528654.0\n",
       "8  2020.06.29  734.69  1347220.0   9278719.0\n",
       "9  2020.06.26  750.58  1522033.0  11787915.0"
      ]
     },
     "execution_count": 310,
     "metadata": {},
     "output_type": "execute_result"
    }
   ],
   "source": [
    "# 데이터 전처리 시작\n",
    "# 빈 행 제거\n",
    "df=df.dropna()\n",
    "# 인덱싱 새로하기\n",
    "df=df.reset_index(drop=True)\n",
    "df.head(10)"
   ]
  },
  {
   "cell_type": "code",
   "execution_count": 311,
   "metadata": {
    "scrolled": true
   },
   "outputs": [
    {
     "data": {
      "text/plain": [
       "날짜          datetime64[ns]\n",
       "체결가                float64\n",
       "거래량(천주)            float64\n",
       "거래대금(백만)           float64\n",
       "dtype: object"
      ]
     },
     "execution_count": 311,
     "metadata": {},
     "output_type": "execute_result"
    }
   ],
   "source": [
    "# 날짜 열 데이터변환\n",
    "df[\"날짜\"] = pd.to_datetime(df[\"날짜\"])\n",
    "df.dtypes"
   ]
  },
  {
   "cell_type": "code",
   "execution_count": 318,
   "metadata": {},
   "outputs": [],
   "source": [
    "df[\"요일\"] = df[\"날짜\"].dt.dayofweek"
   ]
  },
  {
   "cell_type": "code",
   "execution_count": 320,
   "metadata": {},
   "outputs": [
    {
     "data": {
      "text/html": [
       "<div>\n",
       "<style scoped>\n",
       "    .dataframe tbody tr th:only-of-type {\n",
       "        vertical-align: middle;\n",
       "    }\n",
       "\n",
       "    .dataframe tbody tr th {\n",
       "        vertical-align: top;\n",
       "    }\n",
       "\n",
       "    .dataframe thead th {\n",
       "        text-align: right;\n",
       "    }\n",
       "</style>\n",
       "<table border=\"1\" class=\"dataframe\">\n",
       "  <thead>\n",
       "    <tr style=\"text-align: right;\">\n",
       "      <th></th>\n",
       "      <th>날짜</th>\n",
       "      <th>체결가</th>\n",
       "      <th>거래량(천주)</th>\n",
       "      <th>거래대금(백만)</th>\n",
       "      <th>요일</th>\n",
       "    </tr>\n",
       "  </thead>\n",
       "  <tbody>\n",
       "    <tr>\n",
       "      <th>0</th>\n",
       "      <td>2020-07-09</td>\n",
       "      <td>772.90</td>\n",
       "      <td>1465602.0</td>\n",
       "      <td>10387777.0</td>\n",
       "      <td>3</td>\n",
       "    </tr>\n",
       "    <tr>\n",
       "      <th>1</th>\n",
       "      <td>2020-07-08</td>\n",
       "      <td>765.96</td>\n",
       "      <td>1306346.0</td>\n",
       "      <td>10447531.0</td>\n",
       "      <td>2</td>\n",
       "    </tr>\n",
       "    <tr>\n",
       "      <th>2</th>\n",
       "      <td>2020-07-07</td>\n",
       "      <td>759.16</td>\n",
       "      <td>1290021.0</td>\n",
       "      <td>10083403.0</td>\n",
       "      <td>1</td>\n",
       "    </tr>\n",
       "    <tr>\n",
       "      <th>3</th>\n",
       "      <td>2020-07-06</td>\n",
       "      <td>759.90</td>\n",
       "      <td>1142167.0</td>\n",
       "      <td>8304840.0</td>\n",
       "      <td>0</td>\n",
       "    </tr>\n",
       "    <tr>\n",
       "      <th>4</th>\n",
       "      <td>2020-07-03</td>\n",
       "      <td>752.18</td>\n",
       "      <td>1285378.0</td>\n",
       "      <td>10147594.0</td>\n",
       "      <td>4</td>\n",
       "    </tr>\n",
       "    <tr>\n",
       "      <th>...</th>\n",
       "      <td>...</td>\n",
       "      <td>...</td>\n",
       "      <td>...</td>\n",
       "      <td>...</td>\n",
       "      <td>...</td>\n",
       "    </tr>\n",
       "    <tr>\n",
       "      <th>1093</th>\n",
       "      <td>2016-01-25</td>\n",
       "      <td>681.43</td>\n",
       "      <td>453831.0</td>\n",
       "      <td>3025347.0</td>\n",
       "      <td>0</td>\n",
       "    </tr>\n",
       "    <tr>\n",
       "      <th>1094</th>\n",
       "      <td>2016-01-22</td>\n",
       "      <td>670.95</td>\n",
       "      <td>542909.0</td>\n",
       "      <td>3389378.0</td>\n",
       "      <td>4</td>\n",
       "    </tr>\n",
       "    <tr>\n",
       "      <th>1095</th>\n",
       "      <td>2016-01-21</td>\n",
       "      <td>665.84</td>\n",
       "      <td>568732.0</td>\n",
       "      <td>3253867.0</td>\n",
       "      <td>3</td>\n",
       "    </tr>\n",
       "    <tr>\n",
       "      <th>1096</th>\n",
       "      <td>2016-01-20</td>\n",
       "      <td>669.68</td>\n",
       "      <td>743366.0</td>\n",
       "      <td>4433057.0</td>\n",
       "      <td>2</td>\n",
       "    </tr>\n",
       "    <tr>\n",
       "      <th>1097</th>\n",
       "      <td>2016-01-19</td>\n",
       "      <td>681.25</td>\n",
       "      <td>598750.0</td>\n",
       "      <td>3784136.0</td>\n",
       "      <td>1</td>\n",
       "    </tr>\n",
       "  </tbody>\n",
       "</table>\n",
       "<p>1098 rows × 5 columns</p>\n",
       "</div>"
      ],
      "text/plain": [
       "             날짜     체결가    거래량(천주)    거래대금(백만)  요일\n",
       "0    2020-07-09  772.90  1465602.0  10387777.0   3\n",
       "1    2020-07-08  765.96  1306346.0  10447531.0   2\n",
       "2    2020-07-07  759.16  1290021.0  10083403.0   1\n",
       "3    2020-07-06  759.90  1142167.0   8304840.0   0\n",
       "4    2020-07-03  752.18  1285378.0  10147594.0   4\n",
       "...         ...     ...        ...         ...  ..\n",
       "1093 2016-01-25  681.43   453831.0   3025347.0   0\n",
       "1094 2016-01-22  670.95   542909.0   3389378.0   4\n",
       "1095 2016-01-21  665.84   568732.0   3253867.0   3\n",
       "1096 2016-01-20  669.68   743366.0   4433057.0   2\n",
       "1097 2016-01-19  681.25   598750.0   3784136.0   1\n",
       "\n",
       "[1098 rows x 5 columns]"
      ]
     },
     "execution_count": 320,
     "metadata": {},
     "output_type": "execute_result"
    }
   ],
   "source": [
    "df"
   ]
  },
  {
   "cell_type": "code",
   "execution_count": 321,
   "metadata": {},
   "outputs": [],
   "source": [
    "#요일 데이터 문자로 변환\n",
    "def transfer_day(day_num):\n",
    "    # 0=월, 1=화 ... 4=금\n",
    "    if day_num==0:\n",
    "        return '월'\n",
    "    elif day_num==1:\n",
    "        return '화'\n",
    "    elif day_num==2:\n",
    "        return '수'\n",
    "    elif day_num==3:\n",
    "        return '목'\n",
    "    elif day_num==4:\n",
    "        return '금'\n",
    "    else:\n",
    "        print(\"이상값 발견\")"
   ]
  },
  {
   "cell_type": "code",
   "execution_count": 324,
   "metadata": {},
   "outputs": [],
   "source": [
    "df[\"요일\"] = df[\"요일\"].apply(transfer_day)"
   ]
  },
  {
   "cell_type": "code",
   "execution_count": 325,
   "metadata": {},
   "outputs": [
    {
     "data": {
      "text/html": [
       "<div>\n",
       "<style scoped>\n",
       "    .dataframe tbody tr th:only-of-type {\n",
       "        vertical-align: middle;\n",
       "    }\n",
       "\n",
       "    .dataframe tbody tr th {\n",
       "        vertical-align: top;\n",
       "    }\n",
       "\n",
       "    .dataframe thead th {\n",
       "        text-align: right;\n",
       "    }\n",
       "</style>\n",
       "<table border=\"1\" class=\"dataframe\">\n",
       "  <thead>\n",
       "    <tr style=\"text-align: right;\">\n",
       "      <th></th>\n",
       "      <th>날짜</th>\n",
       "      <th>체결가</th>\n",
       "      <th>거래량(천주)</th>\n",
       "      <th>거래대금(백만)</th>\n",
       "      <th>요일</th>\n",
       "    </tr>\n",
       "  </thead>\n",
       "  <tbody>\n",
       "    <tr>\n",
       "      <th>0</th>\n",
       "      <td>2020-07-09</td>\n",
       "      <td>772.90</td>\n",
       "      <td>1465602.0</td>\n",
       "      <td>10387777.0</td>\n",
       "      <td>목</td>\n",
       "    </tr>\n",
       "    <tr>\n",
       "      <th>1</th>\n",
       "      <td>2020-07-08</td>\n",
       "      <td>765.96</td>\n",
       "      <td>1306346.0</td>\n",
       "      <td>10447531.0</td>\n",
       "      <td>수</td>\n",
       "    </tr>\n",
       "    <tr>\n",
       "      <th>2</th>\n",
       "      <td>2020-07-07</td>\n",
       "      <td>759.16</td>\n",
       "      <td>1290021.0</td>\n",
       "      <td>10083403.0</td>\n",
       "      <td>화</td>\n",
       "    </tr>\n",
       "    <tr>\n",
       "      <th>3</th>\n",
       "      <td>2020-07-06</td>\n",
       "      <td>759.90</td>\n",
       "      <td>1142167.0</td>\n",
       "      <td>8304840.0</td>\n",
       "      <td>월</td>\n",
       "    </tr>\n",
       "    <tr>\n",
       "      <th>4</th>\n",
       "      <td>2020-07-03</td>\n",
       "      <td>752.18</td>\n",
       "      <td>1285378.0</td>\n",
       "      <td>10147594.0</td>\n",
       "      <td>금</td>\n",
       "    </tr>\n",
       "    <tr>\n",
       "      <th>...</th>\n",
       "      <td>...</td>\n",
       "      <td>...</td>\n",
       "      <td>...</td>\n",
       "      <td>...</td>\n",
       "      <td>...</td>\n",
       "    </tr>\n",
       "    <tr>\n",
       "      <th>1093</th>\n",
       "      <td>2016-01-25</td>\n",
       "      <td>681.43</td>\n",
       "      <td>453831.0</td>\n",
       "      <td>3025347.0</td>\n",
       "      <td>월</td>\n",
       "    </tr>\n",
       "    <tr>\n",
       "      <th>1094</th>\n",
       "      <td>2016-01-22</td>\n",
       "      <td>670.95</td>\n",
       "      <td>542909.0</td>\n",
       "      <td>3389378.0</td>\n",
       "      <td>금</td>\n",
       "    </tr>\n",
       "    <tr>\n",
       "      <th>1095</th>\n",
       "      <td>2016-01-21</td>\n",
       "      <td>665.84</td>\n",
       "      <td>568732.0</td>\n",
       "      <td>3253867.0</td>\n",
       "      <td>목</td>\n",
       "    </tr>\n",
       "    <tr>\n",
       "      <th>1096</th>\n",
       "      <td>2016-01-20</td>\n",
       "      <td>669.68</td>\n",
       "      <td>743366.0</td>\n",
       "      <td>4433057.0</td>\n",
       "      <td>수</td>\n",
       "    </tr>\n",
       "    <tr>\n",
       "      <th>1097</th>\n",
       "      <td>2016-01-19</td>\n",
       "      <td>681.25</td>\n",
       "      <td>598750.0</td>\n",
       "      <td>3784136.0</td>\n",
       "      <td>화</td>\n",
       "    </tr>\n",
       "  </tbody>\n",
       "</table>\n",
       "<p>1098 rows × 5 columns</p>\n",
       "</div>"
      ],
      "text/plain": [
       "             날짜     체결가    거래량(천주)    거래대금(백만) 요일\n",
       "0    2020-07-09  772.90  1465602.0  10387777.0  목\n",
       "1    2020-07-08  765.96  1306346.0  10447531.0  수\n",
       "2    2020-07-07  759.16  1290021.0  10083403.0  화\n",
       "3    2020-07-06  759.90  1142167.0   8304840.0  월\n",
       "4    2020-07-03  752.18  1285378.0  10147594.0  금\n",
       "...         ...     ...        ...         ... ..\n",
       "1093 2016-01-25  681.43   453831.0   3025347.0  월\n",
       "1094 2016-01-22  670.95   542909.0   3389378.0  금\n",
       "1095 2016-01-21  665.84   568732.0   3253867.0  목\n",
       "1096 2016-01-20  669.68   743366.0   4433057.0  수\n",
       "1097 2016-01-19  681.25   598750.0   3784136.0  화\n",
       "\n",
       "[1098 rows x 5 columns]"
      ]
     },
     "execution_count": 325,
     "metadata": {},
     "output_type": "execute_result"
    }
   ],
   "source": [
    "df"
   ]
  },
  {
   "cell_type": "code",
   "execution_count": 326,
   "metadata": {},
   "outputs": [],
   "source": [
    "#df.groupby(\"요일\").mean()\n",
    "result = pd.DataFrame(df.groupby(\"요일\").mean())"
   ]
  },
  {
   "cell_type": "code",
   "execution_count": 327,
   "metadata": {},
   "outputs": [],
   "source": [
    "format = lambda x: '%.2f' % x\n",
    "result[\"체결가\"] = result[\"체결가\"].map(format)\n",
    "result[\"거래량(천주)\"] = result[\"거래량(천주)\"].map(format)\n",
    "result[\"거래대금(백만)\"] = result[\"거래대금(백만)\"].map(format)"
   ]
  },
  {
   "cell_type": "code",
   "execution_count": 332,
   "metadata": {},
   "outputs": [
    {
     "name": "stdout",
     "output_type": "stream",
     "text": [
      "<class 'pandas.core.frame.DataFrame'>\n",
      "Index: 5 entries, 금 to 화\n",
      "Data columns (total 3 columns):\n",
      " #   Column    Non-Null Count  Dtype  \n",
      "---  ------    --------------  -----  \n",
      " 0   체결가       5 non-null      float64\n",
      " 1   거래량(천주)   5 non-null      float64\n",
      " 2   거래대금(백만)  5 non-null      float64\n",
      "dtypes: float64(3)\n",
      "memory usage: 160.0+ bytes\n"
     ]
    }
   ],
   "source": [
    "# 데이터타입 변경\n",
    "result[\"체결가\"]=pd.to_numeric(result[\"체결가\"])\n",
    "result[\"거래량(천주)\"]=pd.to_numeric(result[\"거래량(천주)\"])\n",
    "result[\"거래대금(백만)\"]=pd.to_numeric(result[\"거래대금(백만)\"])\n",
    "result.info()"
   ]
  },
  {
   "cell_type": "code",
   "execution_count": 333,
   "metadata": {},
   "outputs": [],
   "source": [
    "result1 = result['체결가']"
   ]
  },
  {
   "cell_type": "code",
   "execution_count": 334,
   "metadata": {
    "scrolled": true
   },
   "outputs": [
    {
     "data": {
      "image/png": "[encoded data removed]",
      "text/plain": [
       "<Figure size 432x288 with 1 Axes>"
      ]
     },
     "metadata": {
      "needs_background": "light"
     },
     "output_type": "display_data"
    }
   ],
   "source": [
    "# 막대그래프 시각화\n",
    "matplotlib.rcParams['font.family'] = 'Malgun Gothic'\n",
    "\n",
    "\n",
    "bar = result1.plot.bar(grid=True)\n",
    "bar.set_xlabel(\"요일\")\n",
    "bar.set_ylabel(\"체결가\")\n",
    "bar.set_title(\"요일별 코스닥 평균 체결가\")\n",
    "plt.show()"
   ]
  },
  {
   "cell_type": "code",
   "execution_count": 281,
   "metadata": {},
   "outputs": [],
   "source": [
    "import openpyxl"
   ]
  },
  {
   "cell_type": "code",
   "execution_count": 335,
   "metadata": {},
   "outputs": [],
   "source": [
    "df.to_excel('data/cosdaq.xlsx')"
   ]
  },
  {
   "cell_type": "code",
   "execution_count": null,
   "metadata": {},
   "outputs": [],
   "source": []
  }
 ],
 "metadata": {
  "kernelspec": {
   "display_name": "Python 3",
   "language": "python",
   "name": "python3"
  },
  "language_info": {
   "codemirror_mode": {
    "name": "ipython",
    "version": 3
   },
   "file_extension": ".py",
   "mimetype": "text/x-python",
   "name": "python",
   "nbconvert_exporter": "python",
   "pygments_lexer": "ipython3",
   "version": "3.7.6"
  }
 },
 "nbformat": 4,
 "nbformat_minor": 4
}
